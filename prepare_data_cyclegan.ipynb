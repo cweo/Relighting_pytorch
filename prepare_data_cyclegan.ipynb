{
 "cells": [
  {
   "cell_type": "markdown",
   "metadata": {},
   "source": [
    "## Data preparation for cyclegan\n",
    "This notebook will allow us to move the right files to prepare cyclegan from one illuminant to another."
   ]
  },
  {
   "cell_type": "code",
   "execution_count": 1,
   "metadata": {},
   "outputs": [],
   "source": [
    "import os\n",
    "import pandas as pd\n",
    "import numpy\n",
    "import sys\n",
    "import shutil\n",
    "from pathlib import Path"
   ]
  },
  {
   "cell_type": "code",
   "execution_count": 2,
   "metadata": {},
   "outputs": [
    {
     "data": {
      "text/plain": [
       "Index(['Unnamed: 0', 'scene', 'illuminant', 'scene_center_x', 'scene_center_y',\n",
       "       'scene_center_z', 'rendered_image', 'camera_location_x',\n",
       "       'camera_location_y', 'camera_location_z', 'NW', 'N', 'NE', 'E', 'SE',\n",
       "       'S', 'SW', 'W', 'white_balance', 'exposure_compensation',\n",
       "       'pointlight_intensity'],\n",
       "      dtype='object')"
      ]
     },
     "execution_count": 2,
     "metadata": {},
     "output_type": "execute_result"
    }
   ],
   "source": [
    "pd.read_csv('/scratch/barthas/data/train/scene_abandonned_city_54/2500/E/dataset_2500_E.csv').columns\n"
   ]
  },
  {
   "cell_type": "code",
   "execution_count": 3,
   "metadata": {
    "scrolled": true
   },
   "outputs": [],
   "source": [
    "# Desired illuminants {A, B}\n",
    "color_temperatures = {'A': 2500, 'B': 4500}\n",
    "locations = {'A': 'SW','B': 'SE'}\n",
    "\n",
    "destination_dataset_path = '/scratch/barthas/datasets/2500_4500_unaligned/'\n",
    "Path(destination_dataset_path).mkdir(parents=True, exist_ok=True)\n",
    "Path(os.path.join(destination_dataset_path, 'train')).mkdir(parents=True, exist_ok=True)\n",
    "Path(os.path.join(destination_dataset_path, 'test')).mkdir(parents=True, exist_ok=True)\n",
    "Path(os.path.join(destination_dataset_path, 'validate')).mkdir(parents=True, exist_ok=True)\n",
    "Path(os.path.join(destination_dataset_path, 'train', 'A')).mkdir(parents=True, exist_ok=True)\n",
    "Path(os.path.join(destination_dataset_path, 'train', 'B')).mkdir(parents=True, exist_ok=True)\n",
    "Path(os.path.join(destination_dataset_path, 'test', 'A')).mkdir(parents=True, exist_ok=True)\n",
    "Path(os.path.join(destination_dataset_path, 'test', 'B')).mkdir(parents=True, exist_ok=True)\n",
    "Path(os.path.join(destination_dataset_path, 'validate', 'A')).mkdir(parents=True, exist_ok=True)\n",
    "Path(os.path.join(destination_dataset_path, 'validate', 'B')).mkdir(parents=True, exist_ok=True)\n",
    "\n",
    "train_path = '/scratch/barthas/data/train/'\n",
    "test_path = '/scratch/barthas/data/test/'\n",
    "validate_path = '/scratch/barthas/data/validate/'\n",
    "\n",
    "train_scenes = os.listdir(train_path)\n",
    "test_scenes = os.listdir(test_path)\n",
    "validate_scenes = os.listdir(validate_path)\n",
    "\n",
    "\n",
    "col_names = ['Unnamed: 0', 'scene', 'illuminant', 'scene_center_x', 'scene_center_y',\\\n",
    "             'scene_center_z', 'rendered_image', 'camera_location_x',\\\n",
    "             'camera_location_y', 'camera_location_z', 'NW', 'N', 'NE', 'E', 'SE',\\\n",
    "             'S', 'SW', 'W', 'white_balance', 'exposure_compensation','pointlight_intensity']\n",
    "\n",
    "\n",
    "def generate_dataset_both(illuminant = 'A', step = 'train', columns = col_names):\n",
    "    dataset  = pd.DataFrame(columns = col_names)\n",
    "    for index, scene in enumerate(os.listdir(os.path.join('/scratch/barthas/','data', step))):\n",
    "        data_path = os.path.join('/scratch/barthas/', 'data', step, scene, str(color_temperatures[illuminant]), locations[illuminant])\n",
    "        Path(data_path).mkdir(parents=True, exist_ok=True)\n",
    "        dataset_name = 'dataset_' + str(color_temperatures[illuminant]) + '_' + locations[illuminant] + '.csv'\n",
    "        data = pd.read_csv(os.path.join(data_path, dataset_name))\n",
    "        # Rename images and copy them to avoid duplicates\n",
    "        for image_name in data['rendered_image']:\n",
    "            old_image_name = os.path.join(data_path, image_name)        \n",
    "            # Separate base from extension\n",
    "            base, extension = os.path.splitext(image_name)        \n",
    "            new_image_name = os.path.join(destination_dataset_path, step, illuminant, str(index) + '_' + base + extension)\n",
    "            shutil.copy(old_image_name, new_image_name)\n",
    "        data['rendered_image'] = data['rendered_image'].map(lambda image_name:\\\n",
    "                                                            str(index) + '_' + image_name)\n",
    "        dataset = dataset.append(data)\n",
    "    #dataset.to_csv(os.path.join(destination_dataset_path, 'train', 'A', 'dataset_A.csv'))\n",
    "    return dataset\n",
    "\n",
    "#dataset_A = generate_dataset_both(illuminant = 'A', step = 'train', columns = col_names)\n",
    "#dataset_A.head()\n",
    "\n",
    "locations_list = ['SW', 'S', 'SE', 'E', 'NE', 'N', 'NW', 'W']\n",
    "\n",
    "def generate_dataset_color_temperature(illuminant = 'A', step ='train', columns = col_names):\n",
    "    dataset  = pd.DataFrame(columns = col_names)\n",
    "    for index, scene in enumerate(os.listdir(os.path.join('/scratch/barthas/','data', step))):\n",
    "        for location in locations_list:\n",
    "            data_path = os.path.join('/scratch/barthas/','data', step, scene, str(color_temperatures[illuminant]), location)\n",
    "            dataset_name = 'dataset_' + str(color_temperatures[illuminant]) + '_' + location + '.csv'\n",
    "            data = pd.read_csv(os.path.join(data_path, dataset_name))\n",
    "            # Rename images and copy them to avoid duplicates\n",
    "            for image_name in data['rendered_image']:\n",
    "                old_image_name = os.path.join(data_path, image_name)        \n",
    "                # Separate base from extension\n",
    "                base, extension = os.path.splitext(image_name)        \n",
    "                new_image_name = os.path.join(destination_dataset_path, step, illuminant, str(index) + '_' + base + extension)\n",
    "                shutil.copy(old_image_name, new_image_name)\n",
    "            data['rendered_image'] = data['rendered_image'].map(lambda image_name:\\\n",
    "                                                                str(index) + '_' + image_name)\n",
    "            dataset = dataset.append(data)\n",
    "    #dataset.to_csv(os.path.join(destination_dataset_path, 'train', 'A', 'dataset_A.csv'))\n",
    "    return dataset"
   ]
  },
  {
   "cell_type": "code",
   "execution_count": 4,
   "metadata": {},
   "outputs": [
    {
     "ename": "OSError",
     "evalue": "[Errno 28] No space left on device",
     "output_type": "error",
     "traceback": [
      "\u001b[0;31m---------------------------------------------------------------------------\u001b[0m",
      "\u001b[0;31mOSError\u001b[0m                                   Traceback (most recent call last)",
      "\u001b[0;32m<ipython-input-4-63fc3bf09600>\u001b[0m in \u001b[0;36m<module>\u001b[0;34m\u001b[0m\n\u001b[0;32m----> 1\u001b[0;31m \u001b[0mdataset_A\u001b[0m \u001b[0;34m=\u001b[0m \u001b[0mgenerate_dataset_color_temperature\u001b[0m\u001b[0;34m(\u001b[0m\u001b[0milluminant\u001b[0m \u001b[0;34m=\u001b[0m \u001b[0;34m'A'\u001b[0m\u001b[0;34m,\u001b[0m \u001b[0mstep\u001b[0m \u001b[0;34m=\u001b[0m \u001b[0;34m'train'\u001b[0m\u001b[0;34m,\u001b[0m \u001b[0mcolumns\u001b[0m \u001b[0;34m=\u001b[0m \u001b[0mcol_names\u001b[0m\u001b[0;34m)\u001b[0m\u001b[0;34m\u001b[0m\u001b[0;34m\u001b[0m\u001b[0m\n\u001b[0m\u001b[1;32m      2\u001b[0m \u001b[0mdataset_A\u001b[0m\u001b[0;34m.\u001b[0m\u001b[0mhead\u001b[0m\u001b[0;34m(\u001b[0m\u001b[0;34m)\u001b[0m\u001b[0;34m\u001b[0m\u001b[0;34m\u001b[0m\u001b[0m\n\u001b[1;32m      3\u001b[0m \u001b[0;31m#dataset_A = generate_dataset_both(illuminant = 'A', step = 'train', columns = col_names)\u001b[0m\u001b[0;34m\u001b[0m\u001b[0;34m\u001b[0m\u001b[0;34m\u001b[0m\u001b[0m\n\u001b[1;32m      4\u001b[0m \u001b[0;31m#dataset_A.head()\u001b[0m\u001b[0;34m\u001b[0m\u001b[0;34m\u001b[0m\u001b[0;34m\u001b[0m\u001b[0m\n",
      "\u001b[0;32m<ipython-input-3-950adf54a3c4>\u001b[0m in \u001b[0;36mgenerate_dataset_color_temperature\u001b[0;34m(illuminant, step, columns)\u001b[0m\n\u001b[1;32m     68\u001b[0m                 \u001b[0mbase\u001b[0m\u001b[0;34m,\u001b[0m \u001b[0mextension\u001b[0m \u001b[0;34m=\u001b[0m \u001b[0mos\u001b[0m\u001b[0;34m.\u001b[0m\u001b[0mpath\u001b[0m\u001b[0;34m.\u001b[0m\u001b[0msplitext\u001b[0m\u001b[0;34m(\u001b[0m\u001b[0mimage_name\u001b[0m\u001b[0;34m)\u001b[0m\u001b[0;34m\u001b[0m\u001b[0;34m\u001b[0m\u001b[0m\n\u001b[1;32m     69\u001b[0m                 \u001b[0mnew_image_name\u001b[0m \u001b[0;34m=\u001b[0m \u001b[0mos\u001b[0m\u001b[0;34m.\u001b[0m\u001b[0mpath\u001b[0m\u001b[0;34m.\u001b[0m\u001b[0mjoin\u001b[0m\u001b[0;34m(\u001b[0m\u001b[0mdestination_dataset_path\u001b[0m\u001b[0;34m,\u001b[0m \u001b[0mstep\u001b[0m\u001b[0;34m,\u001b[0m \u001b[0milluminant\u001b[0m\u001b[0;34m,\u001b[0m \u001b[0mstr\u001b[0m\u001b[0;34m(\u001b[0m\u001b[0mindex\u001b[0m\u001b[0;34m)\u001b[0m \u001b[0;34m+\u001b[0m \u001b[0;34m'_'\u001b[0m \u001b[0;34m+\u001b[0m \u001b[0mbase\u001b[0m \u001b[0;34m+\u001b[0m \u001b[0mextension\u001b[0m\u001b[0;34m)\u001b[0m\u001b[0;34m\u001b[0m\u001b[0;34m\u001b[0m\u001b[0m\n\u001b[0;32m---> 70\u001b[0;31m                 \u001b[0mshutil\u001b[0m\u001b[0;34m.\u001b[0m\u001b[0mcopy\u001b[0m\u001b[0;34m(\u001b[0m\u001b[0mold_image_name\u001b[0m\u001b[0;34m,\u001b[0m \u001b[0mnew_image_name\u001b[0m\u001b[0;34m)\u001b[0m\u001b[0;34m\u001b[0m\u001b[0;34m\u001b[0m\u001b[0m\n\u001b[0m\u001b[1;32m     71\u001b[0m             data['rendered_image'] = data['rendered_image'].map(lambda image_name:\\\n\u001b[1;32m     72\u001b[0m                                                                 str(index) + '_' + image_name)\n",
      "\u001b[0;32m/opt/anaconda3/lib/python3.6/shutil.py\u001b[0m in \u001b[0;36mcopy\u001b[0;34m(src, dst, follow_symlinks)\u001b[0m\n\u001b[1;32m    243\u001b[0m     \u001b[0;32mif\u001b[0m \u001b[0mos\u001b[0m\u001b[0;34m.\u001b[0m\u001b[0mpath\u001b[0m\u001b[0;34m.\u001b[0m\u001b[0misdir\u001b[0m\u001b[0;34m(\u001b[0m\u001b[0mdst\u001b[0m\u001b[0;34m)\u001b[0m\u001b[0;34m:\u001b[0m\u001b[0;34m\u001b[0m\u001b[0;34m\u001b[0m\u001b[0m\n\u001b[1;32m    244\u001b[0m         \u001b[0mdst\u001b[0m \u001b[0;34m=\u001b[0m \u001b[0mos\u001b[0m\u001b[0;34m.\u001b[0m\u001b[0mpath\u001b[0m\u001b[0;34m.\u001b[0m\u001b[0mjoin\u001b[0m\u001b[0;34m(\u001b[0m\u001b[0mdst\u001b[0m\u001b[0;34m,\u001b[0m \u001b[0mos\u001b[0m\u001b[0;34m.\u001b[0m\u001b[0mpath\u001b[0m\u001b[0;34m.\u001b[0m\u001b[0mbasename\u001b[0m\u001b[0;34m(\u001b[0m\u001b[0msrc\u001b[0m\u001b[0;34m)\u001b[0m\u001b[0;34m)\u001b[0m\u001b[0;34m\u001b[0m\u001b[0;34m\u001b[0m\u001b[0m\n\u001b[0;32m--> 245\u001b[0;31m     \u001b[0mcopyfile\u001b[0m\u001b[0;34m(\u001b[0m\u001b[0msrc\u001b[0m\u001b[0;34m,\u001b[0m \u001b[0mdst\u001b[0m\u001b[0;34m,\u001b[0m \u001b[0mfollow_symlinks\u001b[0m\u001b[0;34m=\u001b[0m\u001b[0mfollow_symlinks\u001b[0m\u001b[0;34m)\u001b[0m\u001b[0;34m\u001b[0m\u001b[0;34m\u001b[0m\u001b[0m\n\u001b[0m\u001b[1;32m    246\u001b[0m     \u001b[0mcopymode\u001b[0m\u001b[0;34m(\u001b[0m\u001b[0msrc\u001b[0m\u001b[0;34m,\u001b[0m \u001b[0mdst\u001b[0m\u001b[0;34m,\u001b[0m \u001b[0mfollow_symlinks\u001b[0m\u001b[0;34m=\u001b[0m\u001b[0mfollow_symlinks\u001b[0m\u001b[0;34m)\u001b[0m\u001b[0;34m\u001b[0m\u001b[0;34m\u001b[0m\u001b[0m\n\u001b[1;32m    247\u001b[0m     \u001b[0;32mreturn\u001b[0m \u001b[0mdst\u001b[0m\u001b[0;34m\u001b[0m\u001b[0;34m\u001b[0m\u001b[0m\n",
      "\u001b[0;32m/opt/anaconda3/lib/python3.6/shutil.py\u001b[0m in \u001b[0;36mcopyfile\u001b[0;34m(src, dst, follow_symlinks)\u001b[0m\n\u001b[1;32m    120\u001b[0m         \u001b[0;32mwith\u001b[0m \u001b[0mopen\u001b[0m\u001b[0;34m(\u001b[0m\u001b[0msrc\u001b[0m\u001b[0;34m,\u001b[0m \u001b[0;34m'rb'\u001b[0m\u001b[0;34m)\u001b[0m \u001b[0;32mas\u001b[0m \u001b[0mfsrc\u001b[0m\u001b[0;34m:\u001b[0m\u001b[0;34m\u001b[0m\u001b[0;34m\u001b[0m\u001b[0m\n\u001b[1;32m    121\u001b[0m             \u001b[0;32mwith\u001b[0m \u001b[0mopen\u001b[0m\u001b[0;34m(\u001b[0m\u001b[0mdst\u001b[0m\u001b[0;34m,\u001b[0m \u001b[0;34m'wb'\u001b[0m\u001b[0;34m)\u001b[0m \u001b[0;32mas\u001b[0m \u001b[0mfdst\u001b[0m\u001b[0;34m:\u001b[0m\u001b[0;34m\u001b[0m\u001b[0;34m\u001b[0m\u001b[0m\n\u001b[0;32m--> 122\u001b[0;31m                 \u001b[0mcopyfileobj\u001b[0m\u001b[0;34m(\u001b[0m\u001b[0mfsrc\u001b[0m\u001b[0;34m,\u001b[0m \u001b[0mfdst\u001b[0m\u001b[0;34m)\u001b[0m\u001b[0;34m\u001b[0m\u001b[0;34m\u001b[0m\u001b[0m\n\u001b[0m\u001b[1;32m    123\u001b[0m     \u001b[0;32mreturn\u001b[0m \u001b[0mdst\u001b[0m\u001b[0;34m\u001b[0m\u001b[0;34m\u001b[0m\u001b[0m\n\u001b[1;32m    124\u001b[0m \u001b[0;34m\u001b[0m\u001b[0m\n",
      "\u001b[0;32m/opt/anaconda3/lib/python3.6/shutil.py\u001b[0m in \u001b[0;36mcopyfileobj\u001b[0;34m(fsrc, fdst, length)\u001b[0m\n\u001b[1;32m     80\u001b[0m         \u001b[0;32mif\u001b[0m \u001b[0;32mnot\u001b[0m \u001b[0mbuf\u001b[0m\u001b[0;34m:\u001b[0m\u001b[0;34m\u001b[0m\u001b[0;34m\u001b[0m\u001b[0m\n\u001b[1;32m     81\u001b[0m             \u001b[0;32mbreak\u001b[0m\u001b[0;34m\u001b[0m\u001b[0;34m\u001b[0m\u001b[0m\n\u001b[0;32m---> 82\u001b[0;31m         \u001b[0mfdst\u001b[0m\u001b[0;34m.\u001b[0m\u001b[0mwrite\u001b[0m\u001b[0;34m(\u001b[0m\u001b[0mbuf\u001b[0m\u001b[0;34m)\u001b[0m\u001b[0;34m\u001b[0m\u001b[0;34m\u001b[0m\u001b[0m\n\u001b[0m\u001b[1;32m     83\u001b[0m \u001b[0;34m\u001b[0m\u001b[0m\n\u001b[1;32m     84\u001b[0m \u001b[0;32mdef\u001b[0m \u001b[0m_samefile\u001b[0m\u001b[0;34m(\u001b[0m\u001b[0msrc\u001b[0m\u001b[0;34m,\u001b[0m \u001b[0mdst\u001b[0m\u001b[0;34m)\u001b[0m\u001b[0;34m:\u001b[0m\u001b[0;34m\u001b[0m\u001b[0;34m\u001b[0m\u001b[0m\n",
      "\u001b[0;31mOSError\u001b[0m: [Errno 28] No space left on device"
     ]
    }
   ],
   "source": [
    "dataset_A = generate_dataset_color_temperature(illuminant = 'A', step = 'train', columns = col_names)\n",
    "dataset_A.head()\n",
    "#dataset_A = generate_dataset_both(illuminant = 'A', step = 'train', columns = col_names)\n",
    "#dataset_A.head()\n"
   ]
  },
  {
   "cell_type": "code",
   "execution_count": null,
   "metadata": {},
   "outputs": [],
   "source": [
    "dataset_B = generate_dataset_color_temperature(illuminant = 'B', step = 'train', columns = col_names)\n",
    "dataset_B.head()\n",
    "#dataset_B = generate_dataset_both(illuminant = 'B', step = 'train', columns = col_names)\n",
    "#dataset_B.head()"
   ]
  },
  {
   "cell_type": "code",
   "execution_count": null,
   "metadata": {},
   "outputs": [],
   "source": [
    "dataset_C = generate_dataset_color_temperature(illuminant = 'A', step = 'test', columns = col_names)\n",
    "dataset_C.head()\n",
    "#dataset_C = generate_dataset_both(illuminant = 'A', step = 'test', columns = col_names)\n",
    "#dataset_C.head()"
   ]
  },
  {
   "cell_type": "code",
   "execution_count": null,
   "metadata": {},
   "outputs": [],
   "source": [
    "dataset_D = generate_dataset_color_temperature(illuminant = 'B', step = 'test', columns = col_names)\n",
    "dataset_D.head()\n",
    "#dataset_D = generate_dataset_both(illuminant = 'B', step = 'test', columns = col_names)\n",
    "#dataset_D.head()"
   ]
  },
  {
   "cell_type": "code",
   "execution_count": null,
   "metadata": {},
   "outputs": [],
   "source": [
    "dataset_E = generate_dataset_color_temperature(illuminant = 'A', step = 'validate', columns = col_names)\n",
    "dataset_E.head()\n",
    "#dataset_E = generate_dataset_both(illuminant = 'A', step = 'validate', columns = col_names)\n",
    "#dataset_E.head()"
   ]
  },
  {
   "cell_type": "code",
   "execution_count": null,
   "metadata": {},
   "outputs": [],
   "source": [
    "dataset_F = generate_dataset_color_temperature(illuminant = 'B', step = 'validate', columns = col_names)\n",
    "dataset_F.head()\n",
    "#dataset_F = generate_dataset_both(illuminant = 'B', step = 'validate', columns = col_names)\n",
    "#dataset_F.head()"
   ]
  },
  {
   "cell_type": "code",
   "execution_count": 17,
   "metadata": {},
   "outputs": [],
   "source": []
  },
  {
   "cell_type": "code",
   "execution_count": null,
   "metadata": {},
   "outputs": [],
   "source": []
  }
 ],
 "metadata": {
  "kernelspec": {
   "display_name": "Python 3",
   "language": "python",
   "name": "python3"
  },
  "language_info": {
   "codemirror_mode": {
    "name": "ipython",
    "version": 3
   },
   "file_extension": ".py",
   "mimetype": "text/x-python",
   "name": "python",
   "nbconvert_exporter": "python",
   "pygments_lexer": "ipython3",
   "version": "3.6.10"
  }
 },
 "nbformat": 4,
 "nbformat_minor": 2
}
